{
 "cells": [
  {
   "cell_type": "code",
   "execution_count": 9,
   "id": "5347a31e",
   "metadata": {},
   "outputs": [],
   "source": [
    "import numpy as np\n",
    "import pandas as pd"
   ]
  },
  {
   "cell_type": "code",
   "execution_count": 44,
   "id": "ae5dd934",
   "metadata": {},
   "outputs": [
    {
     "name": "stdout",
     "output_type": "stream",
     "text": [
      "<class 'pandas.core.frame.DataFrame'>\n",
      "<class 'numpy.ndarray'>\n",
      "<class 'pandas.core.frame.DataFrame'>\n"
     ]
    }
   ],
   "source": [
    "# x_train as pandas.DataFrame, y_train as pandas.Series\n",
    "x_train = pd.read_csv(\"kaggledata/train.csv\")\n",
    "x_train = x_train.drop(['Name',\"Ticket\",\"Cabin\"],axis=1)\n",
    "x_train[\"Embarked\"] = x_train['Embarked'].fillna(\"Nab\")\n",
    "x_train = x_train.fillna(0)\n",
    "print(type(x_train))  # pandas.DataFrame\n",
    "y_train = x_train.pop(\"Survived\").to_numpy()\n",
    "print(type(y_train))  # pandas.Series\n",
    "\n",
    "# You can also use pandas.DataFrame for y_train.\n",
    "y_train = pd.DataFrame(y_train)\n",
    "print(type(y_train))  # pandas.DataFrame\n",
    "\n",
    "\n",
    "# Preparing testing data.\n",
    "x_test = pd.read_csv(\"kaggledata/test.csv\")\n"
   ]
  },
  {
   "cell_type": "code",
   "execution_count": 45,
   "id": "e5719e80",
   "metadata": {},
   "outputs": [],
   "source": [
    "\n",
    "# convert all different sub values into integer\n",
    "def gendertonum(gender):\n",
    "    return {\n",
    "            'male': 0,\n",
    "            'female': 1,\n",
    "    }[gender]\n",
    "# convert all different sub values into integer\n",
    "def locationtonum(location):\n",
    "    if location:\n",
    "        return {\n",
    "                'Q': 0,\n",
    "                'S': 1,\n",
    "                'C': 2,\n",
    "                'Nab':3\n",
    "        }[location]\n",
    "    else:\n",
    "        return 3\n"
   ]
  },
  {
   "cell_type": "code",
   "execution_count": 46,
   "id": "bd029486",
   "metadata": {},
   "outputs": [],
   "source": [
    "x_train[\"Sex\"] = x_train[\"Sex\"].apply(lambda x: gendertonum(x))\n",
    "x_train[\"Embarked\"] = x_train[\"Embarked\"].apply(lambda x: locationtonum(x))"
   ]
  },
  {
   "cell_type": "code",
   "execution_count": 47,
   "id": "f4987970",
   "metadata": {},
   "outputs": [],
   "source": [
    "from sklearn.model_selection import train_test_split\n",
    "\n",
    "# Split dataset into training set and test set\n",
    "X_train, X_test, y_train, y_test = train_test_split(x_train, y_train, test_size=0.10) # 70% training and 30% test\n"
   ]
  },
  {
   "cell_type": "code",
   "execution_count": 48,
   "id": "c779206f",
   "metadata": {},
   "outputs": [
    {
     "data": {
      "text/plain": [
       "RandomForestClassifier(n_estimators=5000)"
      ]
     },
     "execution_count": 48,
     "metadata": {},
     "output_type": "execute_result"
    }
   ],
   "source": [
    "from sklearn.ensemble import RandomForestClassifier\n",
    "\n",
    "#Create a Gaussian Classifier\n",
    "clf=RandomForestClassifier(n_estimators=5000)\n",
    "\n",
    "#Train the model using the training sets y_pred=clf.predict(X_test)\n",
    "clf.fit(X_train,y_train.values.ravel())\n"
   ]
  },
  {
   "cell_type": "code",
   "execution_count": 49,
   "id": "ab987522",
   "metadata": {},
   "outputs": [
    {
     "name": "stdout",
     "output_type": "stream",
     "text": [
      "Accuracy: 0.8555555555555555\n"
     ]
    }
   ],
   "source": [
    "y_pred=clf.predict(X_test)\n",
    "from sklearn import metrics\n",
    "# Model Accuracy, how often is the classifier correct?\n",
    "print(\"Accuracy:\",metrics.accuracy_score(y_test, y_pred))"
   ]
  },
  {
   "cell_type": "code",
   "execution_count": 50,
   "id": "430db2b3",
   "metadata": {},
   "outputs": [],
   "source": [
    "x_test[\"Sex\"] = x_test[\"Sex\"].apply(lambda x: gendertonum(x))\n",
    "x_test[\"Embarked\"] = x_test[\"Embarked\"].apply(lambda x: locationtonum(x))\n",
    "x_test = x_test.drop(['Name',\"Ticket\",\"Cabin\"],axis=1).fillna(0)\n",
    "predicted_y = clf.predict(x_test).astype(int)"
   ]
  },
  {
   "cell_type": "code",
   "execution_count": 52,
   "id": "41a0f4a0",
   "metadata": {},
   "outputs": [],
   "source": [
    "import pandas as pd\n",
    "df = pd.read_csv(\"kaggledata/test.csv\",usecols=['PassengerId'])\n",
    "df[\"\"] = df.reset_index().index\n",
    "df[\"Survived\"] = predicted_y\n",
    "df.to_csv(\"test_final.csv\", index=False)"
   ]
  },
  {
   "cell_type": "code",
   "execution_count": null,
   "id": "553620e2",
   "metadata": {},
   "outputs": [],
   "source": []
  }
 ],
 "metadata": {
  "kernelspec": {
   "display_name": "Python 3 (ipykernel)",
   "language": "python",
   "name": "python3"
  },
  "language_info": {
   "codemirror_mode": {
    "name": "ipython",
    "version": 3
   },
   "file_extension": ".py",
   "mimetype": "text/x-python",
   "name": "python",
   "nbconvert_exporter": "python",
   "pygments_lexer": "ipython3",
   "version": "3.8.10"
  }
 },
 "nbformat": 4,
 "nbformat_minor": 5
}
